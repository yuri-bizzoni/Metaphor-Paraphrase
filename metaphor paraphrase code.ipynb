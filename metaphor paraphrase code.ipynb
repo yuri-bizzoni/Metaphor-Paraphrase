{
 "cells": [
  {
   "cell_type": "code",
   "execution_count": 3,
   "metadata": {
    "collapsed": false
   },
   "outputs": [
    {
     "name": "stderr",
     "output_type": "stream",
     "text": [
      "Using TensorFlow backend.\n"
     ]
    }
   ],
   "source": [
    "import numpy as np\n",
    "\n",
    "from keras.models import Sequential\n",
    "from keras.layers import Dense\n",
    "from keras.layers import LSTM\n",
    "from keras.preprocessing import sequence\n",
    "import numpy\n",
    "import nltk\n",
    "\n",
    "from scipy import spatial\n",
    "\n",
    "from scipy import stats\n",
    "from scipy.stats import pearsonr,spearmanr\n",
    "\n",
    "# fix random seed for reproducibility\n",
    "seed = 7\n",
    "numpy.random.seed(seed)"
   ]
  },
  {
   "cell_type": "code",
   "execution_count": 2,
   "metadata": {
    "collapsed": false
   },
   "outputs": [],
   "source": [
    "import gensim\n",
    "from gensim.models import doc2vec\n",
    "from gensim.models.doc2vec import *\n",
    "import numpy as np\n",
    "\n",
    "\n",
    "#load pre-trained vectors\n",
    "model_b = Word2Vec.load_word2vec_format(\"GoogleNews-vectors-negative300.bin\",binary=True) #address of the vectors\n",
    "model_b.init_sims(replace=True)\n"
   ]
  },
  {
   "cell_type": "code",
   "execution_count": 7,
   "metadata": {
    "collapsed": false
   },
   "outputs": [],
   "source": [
    "import nltk\n",
    "\n",
    "\n",
    "#this function takes the address of the data and processes it\n",
    "def make_the_XandY(address, max_length=25):\n",
    "    \n",
    "    paracorpus = open(address).read() #reads a corpus of paraphrases \n",
    "    \n",
    "    paragroups = paracorpus.split(\"\\n\\n\")  #splits it in groups of paraphrases\n",
    "\n",
    "    parasent = [group.split(\"\\n\") for group in paragroups] #splits the groups in sentences\n",
    "\n",
    "    XandY_train = [[el.split(\"#\") for el in group] for group in parasent]\n",
    "\n",
    "    XandY_train = [[el for el in group if len(el[0])>1] for group in XandY_train]\n",
    "    \n",
    "    XandY_train = [el for el in XandY_train if len(el)>=5] #filters out spurious elements\n",
    "\n",
    "    print(\"len x and y\" ,len(XandY_train))\n",
    "    \n",
    "    return XandY_train\n",
    "\n",
    "\n",
    "\n",
    "\n",
    "def make_the_binary(XandY_train, max_length=25):\n",
    "    \n",
    "    Xa_text, Xb_text, myYs = [], [], []\n",
    "    \n",
    "    for i in range(0,len(XandY_train[:])):\n",
    "        \n",
    "        group = XandY_train[i]\n",
    "\n",
    "        for el in group:\n",
    "            \n",
    "            prv = []\n",
    "            \n",
    "            if len(el)>1: \n",
    "                \n",
    "                Xa_text.append(group[0][0])\n",
    "                \n",
    "                Xb_text.append(el[0])\n",
    "                \n",
    "                if el[-1].strip().isdigit(): myYs.append(int(el[-1].strip()))\n",
    "                    \n",
    "                else: print(\"WARNING: there is no Y\\n\",el[0])\n",
    "\n",
    "    print(\"I : \", i, \"xandy: \", len(XandY_train))       \n",
    "\n",
    "    Xa0 = np.array([[model_b[nltk.wordpunct_tokenize(t)[i].lower()] for i in range(len(t.split())) if nltk.wordpunct_tokenize(t)[i].lower() in model_b.vocab] for t in Xa_text])\n",
    "    \n",
    "    Xb0 = np.array([[model_b[nltk.wordpunct_tokenize(t)[i].lower()] for i in range(len(t.split())) if nltk.wordpunct_tokenize(t)[i].lower() in model_b.vocab] for t in Xb_text])\n",
    "\n",
    "    #print(len(Xa0),len(Xb0))\n",
    "\n",
    "    Xa = sequence.pad_sequences(Xa0, maxlen=max_length, dtype='float32')\n",
    "    \n",
    "    Xb = sequence.pad_sequences(Xb0, maxlen=max_length, dtype='float32')\n",
    "    \n",
    "    Ys =[]\n",
    "    \n",
    "    for el in myYs: \n",
    "        \n",
    "        if el <3 : Ys.append(0.)\n",
    "            \n",
    "        else: Ys.append(1.)\n",
    "        \n",
    "    print(\"len of labels: \",len(Ys))\n",
    "\n",
    "    #print(myYs[:10])\n",
    "    \n",
    "    return Xa,Xb,Ys"
   ]
  },
  {
   "cell_type": "code",
   "execution_count": 9,
   "metadata": {
    "collapsed": false
   },
   "outputs": [
    {
     "name": "stdout",
     "output_type": "stream",
     "text": [
      "len x and y 187\n",
      "len:  187\n",
      "I :  186 xandy:  187\n",
      "len of labels:  744\n",
      "training size: 684\n",
      "total corpus size 744\n"
     ]
    }
   ],
   "source": [
    "#  training data\n",
    "\n",
    "XandYstuff = make_the_XandY(\"metaphor_paraphrase_corpus\")  #address of the corpus\n",
    "\n",
    "#shuffle\n",
    "#random.shuffle(XandYstuff)\n",
    "\n",
    "print(\"len: \",len(XandYstuff))\n",
    "x_a, x_b, y_ = make_the_binary(XandYstuff)\n",
    "\n",
    "s = int(.92*len(x_a)) #validation split\n",
    "\n",
    "print(\"training size:\",s)\n",
    "\n",
    "print(\"total corpus size\", len(x_a))\n",
    "\n",
    "x_train_a, x_train_b, y_train = x_a[:s], x_b[:s], y_[:s]\n",
    "\n",
    "x_val_a, x_val_b, y_val = x_a[s:], x_b[s:], y_[s:]\n",
    "\n"
   ]
  },
  {
   "cell_type": "code",
   "execution_count": 10,
   "metadata": {
    "collapsed": false
   },
   "outputs": [
    {
     "data": {
      "text/plain": [
       "(684, 684, 60, 60)"
      ]
     },
     "execution_count": 10,
     "metadata": {},
     "output_type": "execute_result"
    }
   ],
   "source": [
    "len(y_train), len(x_train_a), len(y_val), len(x_val_a)"
   ]
  },
  {
   "cell_type": "code",
   "execution_count": 11,
   "metadata": {
    "collapsed": true
   },
   "outputs": [],
   "source": [
    "data_dim = 300\n",
    "\n",
    "timesteps = max_length = 25\n",
    "\n",
    "#nb_classes = 2"
   ]
  },
  {
   "cell_type": "code",
   "execution_count": 18,
   "metadata": {
    "collapsed": false,
    "scrolled": false
   },
   "outputs": [
    {
     "name": "stderr",
     "output_type": "stream",
     "text": [
      "/Users/xbizyu/anaconda/lib/python3.5/site-packages/keras/legacy/layers.py:741: UserWarning: The `AtrousConvolution1D` layer  has been deprecated. Use instead the `Conv1D` layer with the `dilation_rate` argument.\n",
      "  warnings.warn('The `AtrousConvolution1D` layer '\n",
      "/Users/xbizyu/anaconda/lib/python3.5/site-packages/keras/legacy/layers.py:745: UserWarning: Update your `Conv1D` call to the Keras 2 API: `Conv1D(input_shape=(25, 300), filters=25, activation=\"relu\", padding=\"same\", kernel_size=5, dilation_rate=1)`\n",
      "  return Conv1D(*args, **kwargs)\n",
      "/Users/xbizyu/anaconda/lib/python3.5/site-packages/ipykernel/__main__.py:25: UserWarning: Update your `MaxPooling1D` call to the Keras 2 API: `MaxPooling1D(pool_size=2)`\n",
      "/Users/xbizyu/anaconda/lib/python3.5/site-packages/ipykernel/__main__.py:34: UserWarning: Update your `Dense` call to the Keras 2 API: `Dense(10, kernel_initializer=\"he_normal\", kernel_regularizer=<keras.reg...)`\n"
     ]
    },
    {
     "name": "stdout",
     "output_type": "stream",
     "text": [
      "__________________________________________________________________________________________________\n",
      "Layer (type)                    Output Shape         Param #     Connected to                     \n",
      "==================================================================================================\n",
      "input_5 (InputLayer)            (None, 25, 300)      0                                            \n",
      "__________________________________________________________________________________________________\n",
      "input_6 (InputLayer)            (None, 25, 300)      0                                            \n",
      "__________________________________________________________________________________________________\n",
      "model_5 (Model)                 (None, 20)           41680       input_5[0][0]                    \n",
      "                                                                 input_6[0][0]                    \n",
      "__________________________________________________________________________________________________\n",
      "sequential_6 (Sequential)       (None, 1)            21          model_5[1][0]                    \n",
      "==================================================================================================\n",
      "Total params: 41,701\n",
      "Trainable params: 41,701\n",
      "Non-trainable params: 0\n",
      "__________________________________________________________________________________________________\n"
     ]
    },
    {
     "name": "stderr",
     "output_type": "stream",
     "text": [
      "/Users/xbizyu/anaconda/lib/python3.5/site-packages/ipykernel/__main__.py:40: UserWarning: The `merge` function is deprecated and will be removed after 08/2017. Use instead layers from `keras.layers.merge`, e.g. `add`, `concatenate`, etc.\n",
      "/Users/xbizyu/anaconda/lib/python3.5/site-packages/keras/legacy/layers.py:458: UserWarning: The `Merge` layer is deprecated and will be removed after 08/2017. Use instead layers from `keras.layers.merge`, e.g. `add`, `concatenate`, etc.\n",
      "  name=name)\n",
      "/Users/xbizyu/anaconda/lib/python3.5/site-packages/ipykernel/__main__.py:40: UserWarning: Update your `Model` call to the Keras 2 API: `Model(inputs=[<tf.Tenso..., outputs=Tensor(\"me...)`\n",
      "/Users/xbizyu/anaconda/lib/python3.5/site-packages/ipykernel/__main__.py:46: UserWarning: Update your `Model` call to the Keras 2 API: `Model(inputs=[<tf.Tenso..., outputs=Tensor(\"se...)`\n"
     ]
    }
   ],
   "source": [
    "#Model \n",
    "from keras.models import Sequential, Model\n",
    "from keras.layers import Merge, LSTM, Dense, Flatten, Input, merge\n",
    "from keras.layers.convolutional import Convolution1D\n",
    "from keras.layers.convolutional import MaxPooling1D\n",
    "from keras.utils.np_utils import to_categorical\n",
    "from keras.layers.convolutional import Convolution1D, AtrousConvolution1D\n",
    "from keras.layers import Lambda, Activation, Dropout, Embedding, TimeDistributed\n",
    "from keras.regularizers import l2\n",
    "from keras.layers.wrappers import TimeDistributed, Bidirectional\n",
    "from keras import optimizers\n",
    "from keras.callbacks import EarlyStopping\n",
    "from keras.layers.normalization import BatchNormalization\n",
    "\n",
    "\n",
    "def mymodel():\n",
    "        \n",
    "    np.random.seed(7) \n",
    "\n",
    "    encoder = Sequential()\n",
    "\n",
    "    encoder.add(AtrousConvolution1D(nb_filter=25, filter_length=5,input_shape=(timesteps, data_dim), \n",
    "                                      border_mode='same', activation='relu'))\n",
    "    \n",
    "    encoder.add(MaxPooling1D(pool_length=2))\n",
    "    \n",
    "\n",
    "    encoder.add(LSTM(20, input_shape=(timesteps, data_dim))) \n",
    "    \n",
    "    encoder.add(Dense(15,input_shape=(timesteps, data_dim))) \n",
    "    \n",
    "    encoder.add(Dropout(.5))\n",
    "    \n",
    "    encoder.add(Dense(10, init='he_normal', W_regularizer=l2(0.2))) \n",
    "\n",
    "    a = Input((timesteps, data_dim))\n",
    "    \n",
    "    b = Input((timesteps, data_dim))\n",
    "\n",
    "    encoder_2 = Model(input=[a, b], output=merge([encoder(a), encoder(b)], mode='concat'))\n",
    " \n",
    "    decoder_ = Sequential()\n",
    "    \n",
    "    decoder_.add(Dense(1, activation='sigmoid', input_shape=(2*encoder.output_shape[-1],))) \n",
    "\n",
    "    decoder = Model(input=[a, b], output=decoder_(encoder_2([a, b])))\n",
    "\n",
    "    opti = optimizers.Adadelta()\n",
    "    #opti = 'rmsprop'\n",
    "    \n",
    "    decoder.compile(loss='binary_crossentropy', \n",
    "                    optimizer=opti,\n",
    "                    metrics=['accuracy']) \n",
    "\n",
    "    decoder.summary()\n",
    "    return decoder\n",
    "\n",
    "decoder = mymodel()"
   ]
  },
  {
   "cell_type": "code",
   "execution_count": null,
   "metadata": {
    "collapsed": true
   },
   "outputs": [],
   "source": [
    "#Binary task"
   ]
  },
  {
   "cell_type": "code",
   "execution_count": 19,
   "metadata": {
    "collapsed": false,
    "scrolled": true
   },
   "outputs": [
    {
     "name": "stdout",
     "output_type": "stream",
     "text": [
      "Epoch 1/130\n",
      "684/684 [==============================] - 4s 6ms/step - loss: 14.9184 - acc: 0.4722\n",
      "Epoch 2/130\n",
      "684/684 [==============================] - 1s 1ms/step - loss: 14.5657 - acc: 0.5029\n",
      "Epoch 3/130\n",
      "684/684 [==============================] - 1s 1ms/step - loss: 14.2168 - acc: 0.5526\n",
      "Epoch 4/130\n",
      "684/684 [==============================] - 1s 1ms/step - loss: 13.8738 - acc: 0.5512\n",
      "Epoch 5/130\n",
      "684/684 [==============================] - 1s 2ms/step - loss: 13.5360 - acc: 0.5746\n",
      "Epoch 6/130\n",
      "684/684 [==============================] - 2s 2ms/step - loss: 13.2037 - acc: 0.6140\n",
      "Epoch 7/130\n",
      "684/684 [==============================] - 1s 2ms/step - loss: 12.8803 - acc: 0.5965\n",
      "Epoch 8/130\n",
      "684/684 [==============================] - 1s 2ms/step - loss: 12.5605 - acc: 0.6301\n",
      "Epoch 9/130\n",
      "684/684 [==============================] - 1s 2ms/step - loss: 12.2464 - acc: 0.6491\n",
      "Epoch 10/130\n",
      "684/684 [==============================] - 1s 2ms/step - loss: 11.9382 - acc: 0.6491\n",
      "Epoch 11/130\n",
      "684/684 [==============================] - 1s 2ms/step - loss: 11.6336 - acc: 0.6287\n",
      "Epoch 12/130\n",
      "684/684 [==============================] - 1s 2ms/step - loss: 11.3335 - acc: 0.6740\n",
      "Epoch 13/130\n",
      "684/684 [==============================] - 1s 1ms/step - loss: 11.0378 - acc: 0.6667\n",
      "Epoch 14/130\n",
      "684/684 [==============================] - 1s 2ms/step - loss: 10.7437 - acc: 0.6769\n",
      "Epoch 15/130\n",
      "684/684 [==============================] - 1s 1ms/step - loss: 10.4561 - acc: 0.6784\n",
      "Epoch 16/130\n",
      "684/684 [==============================] - 1s 2ms/step - loss: 10.1709 - acc: 0.6813\n",
      "Epoch 17/130\n",
      "684/684 [==============================] - 1s 2ms/step - loss: 9.8938 - acc: 0.6798\n",
      "Epoch 18/130\n",
      "684/684 [==============================] - 1s 1ms/step - loss: 9.6114 - acc: 0.6974\n",
      "Epoch 19/130\n",
      "684/684 [==============================] - 1s 1ms/step - loss: 9.3653 - acc: 0.6930\n",
      "Epoch 20/130\n",
      "684/684 [==============================] - 1s 2ms/step - loss: 9.0627 - acc: 0.7558\n",
      "Epoch 21/130\n",
      "684/684 [==============================] - 1s 1ms/step - loss: 8.7991 - acc: 0.7617\n",
      "Epoch 22/130\n",
      "684/684 [==============================] - 1s 1ms/step - loss: 8.5660 - acc: 0.7427\n",
      "Epoch 23/130\n",
      "684/684 [==============================] - 1s 1ms/step - loss: 8.3681 - acc: 0.7325\n",
      "Epoch 24/130\n",
      "684/684 [==============================] - 1s 1ms/step - loss: 8.0768 - acc: 0.7734\n",
      "Epoch 25/130\n",
      "684/684 [==============================] - 1s 1ms/step - loss: 7.8310 - acc: 0.7968\n",
      "Epoch 26/130\n",
      "684/684 [==============================] - 1s 1ms/step - loss: 7.5979 - acc: 0.8085\n",
      "Epoch 27/130\n",
      "684/684 [==============================] - 1s 1ms/step - loss: 7.3943 - acc: 0.7880\n",
      "Epoch 28/130\n",
      "684/684 [==============================] - 1s 1ms/step - loss: 7.1188 - acc: 0.8377\n",
      "Epoch 29/130\n",
      "684/684 [==============================] - 1s 1ms/step - loss: 6.9354 - acc: 0.8012\n",
      "Epoch 30/130\n",
      "684/684 [==============================] - 1s 1ms/step - loss: 6.7051 - acc: 0.8436\n",
      "Epoch 31/130\n",
      "684/684 [==============================] - 1s 1ms/step - loss: 6.5061 - acc: 0.8509\n",
      "Epoch 32/130\n",
      "684/684 [==============================] - 1s 1ms/step - loss: 6.2805 - acc: 0.8553\n",
      "Epoch 33/130\n",
      "684/684 [==============================] - 1s 1ms/step - loss: 6.0898 - acc: 0.8348\n",
      "Epoch 34/130\n",
      "684/684 [==============================] - 1s 1ms/step - loss: 5.8919 - acc: 0.8713\n",
      "Epoch 35/130\n",
      "684/684 [==============================] - 1s 1ms/step - loss: 5.6414 - acc: 0.9152\n",
      "Epoch 36/130\n",
      "684/684 [==============================] - 1s 1ms/step - loss: 5.4524 - acc: 0.9167\n",
      "Epoch 37/130\n",
      "684/684 [==============================] - 1s 2ms/step - loss: 5.3383 - acc: 0.8743\n",
      "Epoch 38/130\n",
      "684/684 [==============================] - 1s 1ms/step - loss: 5.0975 - acc: 0.9269\n",
      "Epoch 39/130\n",
      "684/684 [==============================] - 1s 1ms/step - loss: 4.8782 - acc: 0.9488\n",
      "Epoch 40/130\n",
      "684/684 [==============================] - 1s 1ms/step - loss: 4.7112 - acc: 0.9518\n",
      "Epoch 41/130\n",
      "684/684 [==============================] - 1s 1ms/step - loss: 4.6534 - acc: 0.8991\n",
      "Epoch 42/130\n",
      "684/684 [==============================] - 1s 1ms/step - loss: 4.5355 - acc: 0.8860\n",
      "Epoch 43/130\n",
      "684/684 [==============================] - 1s 1ms/step - loss: 4.2604 - acc: 0.9605\n",
      "Epoch 44/130\n",
      "684/684 [==============================] - 1s 1ms/step - loss: 4.0921 - acc: 0.9591\n",
      "Epoch 45/130\n",
      "684/684 [==============================] - 1s 1ms/step - loss: 3.9255 - acc: 0.9737\n",
      "Epoch 46/130\n",
      "684/684 [==============================] - 1s 1ms/step - loss: 3.8076 - acc: 0.9605\n",
      "Epoch 47/130\n",
      "684/684 [==============================] - 1s 1ms/step - loss: 3.6513 - acc: 0.9781\n",
      "Epoch 48/130\n",
      "684/684 [==============================] - 1s 1ms/step - loss: 3.5044 - acc: 0.9825\n",
      "Epoch 49/130\n",
      "684/684 [==============================] - 1s 1ms/step - loss: 3.3694 - acc: 0.9854\n",
      "Epoch 50/130\n",
      "684/684 [==============================] - 1s 1ms/step - loss: 3.2416 - acc: 0.9868\n",
      "Epoch 51/130\n",
      "684/684 [==============================] - 1s 1ms/step - loss: 3.1145 - acc: 0.9883\n",
      "Epoch 52/130\n",
      "684/684 [==============================] - 1s 1ms/step - loss: 3.0024 - acc: 0.9854\n",
      "Epoch 53/130\n",
      "684/684 [==============================] - 1s 1ms/step - loss: 2.8833 - acc: 0.9898\n",
      "Epoch 54/130\n",
      "684/684 [==============================] - 1s 1ms/step - loss: 2.7714 - acc: 0.9883\n",
      "Epoch 55/130\n",
      "684/684 [==============================] - 1s 1ms/step - loss: 2.6640 - acc: 0.9898\n",
      "Epoch 56/130\n",
      "684/684 [==============================] - 1s 1ms/step - loss: 2.5528 - acc: 0.9927\n",
      "Epoch 57/130\n",
      "684/684 [==============================] - 1s 2ms/step - loss: 2.4560 - acc: 0.9883\n",
      "Epoch 58/130\n",
      "684/684 [==============================] - 1s 2ms/step - loss: 2.3520 - acc: 0.9927\n",
      "Epoch 59/130\n",
      "684/684 [==============================] - 1s 1ms/step - loss: 2.2632 - acc: 0.9927\n",
      "Epoch 60/130\n",
      "684/684 [==============================] - 1s 2ms/step - loss: 2.1667 - acc: 0.9942\n",
      "Epoch 61/130\n",
      "684/684 [==============================] - 1s 2ms/step - loss: 2.0776 - acc: 0.9927\n",
      "Epoch 62/130\n",
      "684/684 [==============================] - 1s 1ms/step - loss: 1.9918 - acc: 0.9942\n",
      "Epoch 63/130\n",
      "684/684 [==============================] - 1s 1ms/step - loss: 1.9070 - acc: 0.9898\n",
      "Epoch 64/130\n",
      "684/684 [==============================] - 1s 2ms/step - loss: 1.8250 - acc: 0.9883\n",
      "Epoch 65/130\n",
      "684/684 [==============================] - 2s 3ms/step - loss: 1.7462 - acc: 0.9956\n",
      "Epoch 66/130\n",
      "684/684 [==============================] - 1s 2ms/step - loss: 1.6743 - acc: 0.9927\n",
      "Epoch 67/130\n",
      "684/684 [==============================] - 1s 2ms/step - loss: 1.6004 - acc: 0.9912\n",
      "Epoch 68/130\n",
      "684/684 [==============================] - 1s 2ms/step - loss: 1.5289 - acc: 0.9956\n",
      "Epoch 69/130\n",
      "684/684 [==============================] - 1s 2ms/step - loss: 1.4603 - acc: 0.9956\n",
      "Epoch 70/130\n",
      "684/684 [==============================] - 2s 2ms/step - loss: 1.3946 - acc: 0.9956\n",
      "Epoch 71/130\n",
      "684/684 [==============================] - 1s 2ms/step - loss: 1.3373 - acc: 0.9927\n",
      "Epoch 72/130\n",
      "684/684 [==============================] - 1s 2ms/step - loss: 1.2692 - acc: 0.9956\n",
      "Epoch 73/130\n",
      "684/684 [==============================] - 1s 1ms/step - loss: 1.2150 - acc: 0.9942\n",
      "Epoch 74/130\n",
      "684/684 [==============================] - 1s 1ms/step - loss: 1.1570 - acc: 0.9912\n",
      "Epoch 75/130\n",
      "684/684 [==============================] - 1s 1ms/step - loss: 1.1079 - acc: 0.9927\n",
      "Epoch 76/130\n",
      "684/684 [==============================] - 1s 1ms/step - loss: 1.0514 - acc: 0.9942\n",
      "Epoch 77/130\n",
      "684/684 [==============================] - 1s 1ms/step - loss: 1.0004 - acc: 0.9942\n",
      "Epoch 78/130\n",
      "684/684 [==============================] - 1s 1ms/step - loss: 0.9584 - acc: 0.9942\n",
      "Epoch 79/130\n",
      "684/684 [==============================] - 1s 1ms/step - loss: 0.9139 - acc: 0.9898\n",
      "Epoch 80/130\n",
      "684/684 [==============================] - 1s 1ms/step - loss: 0.8616 - acc: 0.9956\n",
      "Epoch 81/130\n",
      "684/684 [==============================] - 1s 1ms/step - loss: 0.8261 - acc: 0.9956\n",
      "Epoch 82/130\n",
      "684/684 [==============================] - 1s 1ms/step - loss: 0.7891 - acc: 0.9898\n",
      "Epoch 83/130\n",
      "684/684 [==============================] - 1s 1ms/step - loss: 0.7416 - acc: 0.9942\n",
      "Epoch 84/130\n",
      "684/684 [==============================] - 1s 1ms/step - loss: 0.7078 - acc: 0.9942\n",
      "Epoch 85/130\n",
      "684/684 [==============================] - 1s 1ms/step - loss: 0.6708 - acc: 0.9927\n",
      "Epoch 86/130\n",
      "684/684 [==============================] - 1s 1ms/step - loss: 0.6358 - acc: 0.9942\n",
      "Epoch 87/130\n",
      "684/684 [==============================] - 1s 1ms/step - loss: 0.6049 - acc: 0.9956\n",
      "Epoch 88/130\n",
      "684/684 [==============================] - 1s 1ms/step - loss: 0.5742 - acc: 0.9927\n",
      "Epoch 89/130\n",
      "684/684 [==============================] - 1s 1ms/step - loss: 0.5449 - acc: 0.9927\n",
      "Epoch 90/130\n",
      "684/684 [==============================] - 1s 1ms/step - loss: 0.5131 - acc: 0.9956\n",
      "Epoch 91/130\n",
      "684/684 [==============================] - 1s 1ms/step - loss: 0.4895 - acc: 0.9942\n",
      "Epoch 92/130\n",
      "684/684 [==============================] - 1s 1ms/step - loss: 0.4613 - acc: 0.9971\n",
      "Epoch 93/130\n",
      "684/684 [==============================] - 1s 1ms/step - loss: 0.4372 - acc: 0.9942\n",
      "Epoch 94/130\n",
      "684/684 [==============================] - 1s 1ms/step - loss: 0.4152 - acc: 0.9927\n",
      "Epoch 95/130\n",
      "684/684 [==============================] - 1s 1ms/step - loss: 0.3947 - acc: 0.9942\n",
      "Epoch 96/130\n",
      "684/684 [==============================] - 1s 1ms/step - loss: 0.3678 - acc: 0.9942\n",
      "Epoch 97/130\n",
      "684/684 [==============================] - 1s 2ms/step - loss: 0.3476 - acc: 0.9956\n",
      "Epoch 98/130\n",
      "684/684 [==============================] - 1s 1ms/step - loss: 0.3350 - acc: 0.9956\n",
      "Epoch 99/130\n",
      "684/684 [==============================] - 1s 1ms/step - loss: 0.3114 - acc: 0.9942\n",
      "Epoch 100/130\n",
      "684/684 [==============================] - 1s 1ms/step - loss: 0.2993 - acc: 0.9927\n",
      "Epoch 101/130\n",
      "684/684 [==============================] - 1s 2ms/step - loss: 0.2783 - acc: 0.9956\n",
      "Epoch 102/130\n",
      "684/684 [==============================] - 1s 1ms/step - loss: 0.2648 - acc: 0.9942\n",
      "Epoch 103/130\n",
      "684/684 [==============================] - 1s 1ms/step - loss: 0.2510 - acc: 0.9956\n",
      "Epoch 104/130\n",
      "684/684 [==============================] - 1s 1ms/step - loss: 0.2364 - acc: 0.9942\n",
      "Epoch 105/130\n",
      "684/684 [==============================] - 1s 1ms/step - loss: 0.2265 - acc: 0.9956\n",
      "Epoch 106/130\n",
      "684/684 [==============================] - 1s 1ms/step - loss: 0.2123 - acc: 0.9942\n",
      "Epoch 107/130\n",
      "684/684 [==============================] - 1s 1ms/step - loss: 0.1988 - acc: 0.9942\n",
      "Epoch 108/130\n",
      "684/684 [==============================] - 1s 1ms/step - loss: 0.1889 - acc: 0.9956\n",
      "Epoch 109/130\n",
      "684/684 [==============================] - 1s 1ms/step - loss: 0.1770 - acc: 0.9942\n",
      "Epoch 110/130\n",
      "684/684 [==============================] - 1s 1ms/step - loss: 0.1679 - acc: 0.9942\n",
      "Epoch 111/130\n",
      "684/684 [==============================] - 1s 1ms/step - loss: 0.1605 - acc: 0.9956\n",
      "Epoch 112/130\n",
      "684/684 [==============================] - 1s 1ms/step - loss: 0.1522 - acc: 0.9927\n",
      "Epoch 113/130\n",
      "684/684 [==============================] - 1s 2ms/step - loss: 0.1429 - acc: 0.9927\n",
      "Epoch 114/130\n",
      "684/684 [==============================] - 1s 1ms/step - loss: 0.1342 - acc: 0.9942\n",
      "Epoch 115/130\n",
      "684/684 [==============================] - 1s 2ms/step - loss: 0.1264 - acc: 0.9927\n",
      "Epoch 116/130\n",
      "684/684 [==============================] - 1s 1ms/step - loss: 0.1193 - acc: 0.9942\n",
      "Epoch 117/130\n",
      "684/684 [==============================] - 1s 1ms/step - loss: 0.1144 - acc: 0.9956\n",
      "Epoch 118/130\n",
      "684/684 [==============================] - 1s 2ms/step - loss: 0.1108 - acc: 0.9942\n",
      "Epoch 119/130\n",
      "684/684 [==============================] - 1s 2ms/step - loss: 0.1030 - acc: 0.9956\n",
      "Epoch 120/130\n",
      "684/684 [==============================] - 1s 2ms/step - loss: 0.0995 - acc: 0.9942\n",
      "Epoch 121/130\n",
      "684/684 [==============================] - 1s 2ms/step - loss: 0.0937 - acc: 0.9927\n",
      "Epoch 122/130\n",
      "684/684 [==============================] - 1s 1ms/step - loss: 0.0890 - acc: 0.9927\n",
      "Epoch 123/130\n",
      "684/684 [==============================] - 1s 2ms/step - loss: 0.0826 - acc: 0.9927\n",
      "Epoch 124/130\n",
      "684/684 [==============================] - 1s 2ms/step - loss: 0.0812 - acc: 0.9956\n",
      "Epoch 125/130\n",
      "684/684 [==============================] - 1s 2ms/step - loss: 0.0769 - acc: 0.9927\n",
      "Epoch 126/130\n",
      "684/684 [==============================] - 2s 2ms/step - loss: 0.0726 - acc: 0.9956\n",
      "Epoch 127/130\n",
      "684/684 [==============================] - 1s 2ms/step - loss: 0.0741 - acc: 0.9942\n",
      "Epoch 128/130\n",
      "684/684 [==============================] - 1s 2ms/step - loss: 0.0668 - acc: 0.9927\n",
      "Epoch 129/130\n",
      "684/684 [==============================] - 1s 2ms/step - loss: 0.0658 - acc: 0.9956\n",
      "Epoch 130/130\n",
      "684/684 [==============================] - 1s 2ms/step - loss: 0.0609 - acc: 0.9956\n"
     ]
    },
    {
     "data": {
      "text/plain": [
       "<keras.callbacks.History at 0x20ed097f0>"
      ]
     },
     "execution_count": 19,
     "metadata": {},
     "output_type": "execute_result"
    }
   ],
   "source": [
    "decoder.fit([x_train_a[:], x_train_b[:]], y_train[:],\n",
    "            batch_size=64, epochs=130, shuffle=False)"
   ]
  },
  {
   "cell_type": "code",
   "execution_count": 20,
   "metadata": {
    "collapsed": false
   },
   "outputs": [
    {
     "name": "stdout",
     "output_type": "stream",
     "text": [
      "60/60 [==============================] - 1s 11ms/step\n"
     ]
    },
    {
     "data": {
      "text/plain": [
       "[1.2685597260793051, 0.78333332538604739]"
      ]
     },
     "execution_count": 20,
     "metadata": {},
     "output_type": "execute_result"
    }
   ],
   "source": [
    "decoder.evaluate([x_val_a, x_val_b], y_val)"
   ]
  },
  {
   "cell_type": "code",
   "execution_count": null,
   "metadata": {
    "collapsed": true
   },
   "outputs": [],
   "source": [
    "#Ordering task"
   ]
  },
  {
   "cell_type": "code",
   "execution_count": 23,
   "metadata": {
    "collapsed": false,
    "scrolled": true
   },
   "outputs": [
    {
     "name": "stdout",
     "output_type": "stream",
     "text": [
      "0\n"
     ]
    }
   ],
   "source": [
    "max_length = timesteps\n",
    "\n",
    "\n",
    "def ordering(decoder,XandY):\n",
    "    c=0\n",
    "    \n",
    "    whatwewant, whatwehave = [],[]\n",
    "    \n",
    "    baseline = []\n",
    "    \n",
    "    Xa_text, Xb_text, myYs = [], [], []\n",
    "    \n",
    "    for group in XandY[1:]:\n",
    "        \n",
    "        c+=1\n",
    "\n",
    "        if len(group)<5: pass\n",
    "        \n",
    "        t = group[0][0].lower()\n",
    "\n",
    "        sentence0 = [model_b[t.split()[i]] for i in range(len(t.split())) if t.split()[i] in model_b.vocab]\n",
    "        \n",
    "        a = np.array([el for el in sentence0]).sum(axis=0) #for baseline\n",
    "        \n",
    "        sentence = np.array([sentence0])\n",
    "        \n",
    "        sentence = sequence.pad_sequences(sentence, maxlen=max_length, dtype='float32')\n",
    "\n",
    "        prv = []\n",
    "        \n",
    "        prv_baseline = []\n",
    "        \n",
    "        for el in group:\n",
    "            \n",
    "            if len(el)>1:\n",
    "                \n",
    "                t2 = el[0].lower()\n",
    "                \n",
    "                compar0 = [model_b[t2.split()[i]] for i in range(len(t2.split())) if t2.split()[i] in model_b.vocab]\n",
    "\n",
    "                b = np.array([el for el in compar0]).sum(axis=0) #for baseline\n",
    "                \n",
    "                compar = np.array([compar0])\n",
    "                \n",
    "                compar = sequence.pad_sequences(compar, maxlen=max_length, dtype='float32')\n",
    "\n",
    "                prv.append((decoder.predict([sentence,compar])[0],int(el[-1]),t2))\n",
    "                \n",
    "                prv_baseline.append(1 - spatial.distance.cosine(a,b)) #for baseline\n",
    "                \n",
    "        prv.sort()\n",
    "        \n",
    "        want,have = [],[]\n",
    "        \n",
    "        for x in prv: \n",
    "\n",
    "            want.append(x[1])\n",
    "            \n",
    "            have.append(x[0][0])\n",
    "            \n",
    "        whatwewant.append(want)\n",
    "        \n",
    "        whatwehave.append(have)\n",
    "        \n",
    "        baseline.append(prv_baseline)\n",
    "        \n",
    "    print(len(myYs))\n",
    "    \n",
    "    return whatwewant,whatwehave,baseline\n",
    "\n",
    "whatwewant,whatwehave,baseline = ordering(decoder, XandYstuff)"
   ]
  },
  {
   "cell_type": "code",
   "execution_count": 27,
   "metadata": {
    "collapsed": false,
    "scrolled": false
   },
   "outputs": [
    {
     "name": "stderr",
     "output_type": "stream",
     "text": [
      "/Users/xbizyu/anaconda/lib/python3.5/site-packages/scipy/stats/stats.py:2998: RuntimeWarning: Mean of empty slice.\n",
      "  mx = x.mean()\n",
      "/Users/xbizyu/anaconda/lib/python3.5/site-packages/scipy/stats/stats.py:2999: RuntimeWarning: Mean of empty slice.\n",
      "  my = y.mean()\n"
     ]
    }
   ],
   "source": [
    "#pearson and spearman mean correlations\n",
    "def pea_and_spea(whatwewant,whatwehave,baseline):\n",
    "    \n",
    "    allpea, allspe,basisP, basisS= [],[],[],[]\n",
    "    \n",
    "    for i in range(len(whatwewant)):\n",
    "        \n",
    "        pear= pearsonr(whatwewant[i],whatwehave[i])[0]\n",
    "        \n",
    "        spe = spearmanr(whatwewant[i],whatwehave[i])[0]\n",
    "        \n",
    "        base_pear = pearsonr(whatwewant[i],baseline[i])[0]\n",
    "        \n",
    "        base_spe = spearmanr(whatwewant[i],baseline[i])[0]\n",
    "         \n",
    "        # the >-1000 precaution is to avoid NaNs and similar occurrences\n",
    "        \n",
    "        if pear>-1000: allpea.append(pear)\n",
    "            \n",
    "        if spe>-1000: allspe.append(spe)\n",
    "            \n",
    "        if base_pear>-1000: basisP.append(base_pear)\n",
    "            \n",
    "        if base_spe>-1000: basisS.append(base_spe)\n",
    "            \n",
    "    return np.mean(allpea), np.mean(allspe), np.mean(basisP),np.mean(basisS)\n",
    "\n",
    "correlations = pea_and_spea(whatwewant,whatwehave, baseline)"
   ]
  },
  {
   "cell_type": "code",
   "execution_count": 28,
   "metadata": {
    "collapsed": false
   },
   "outputs": [
    {
     "name": "stdout",
     "output_type": "stream",
     "text": [
      "mean pearson correlation:  0.800945046323\n",
      "mean spearman correlation:  0.72821281224\n",
      "mean pearson correlation for baseline (cosine similarity of sentences):  -0.0272379148804\n",
      "mean spearman correlation for baseline (cosine similarity of sentences):  -0.0272379148804\n"
     ]
    }
   ],
   "source": [
    "print(\"mean pearson correlation: \", correlations[0])\n",
    "print(\"mean spearman correlation: \", correlations[1])\n",
    "print(\"mean pearson correlation for baseline (cosine similarity of sentences): \", correlations[2])\n",
    "print(\"mean spearman correlation for baseline (cosine similarity of sentences): \", correlations[2])"
   ]
  },
  {
   "cell_type": "code",
   "execution_count": null,
   "metadata": {
    "collapsed": true
   },
   "outputs": [],
   "source": []
  }
 ],
 "metadata": {
  "anaconda-cloud": {},
  "kernelspec": {
   "display_name": "Python [Root]",
   "language": "python",
   "name": "Python [Root]"
  },
  "language_info": {
   "codemirror_mode": {
    "name": "ipython",
    "version": 3
   },
   "file_extension": ".py",
   "mimetype": "text/x-python",
   "name": "python",
   "nbconvert_exporter": "python",
   "pygments_lexer": "ipython3",
   "version": "3.5.2"
  }
 },
 "nbformat": 4,
 "nbformat_minor": 0
}
